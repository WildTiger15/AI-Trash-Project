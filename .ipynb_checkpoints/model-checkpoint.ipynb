{
 "cells": [
  {
   "cell_type": "markdown",
   "id": "90c5f07a-1c30-4586-bb8f-f70b87adc12c",
   "metadata": {},
   "source": [
    "# Import Statements\n"
   ]
  },
  {
   "cell_type": "code",
   "execution_count": 11,
   "id": "baadcca0-d4ae-4180-8db4-7b4735b0d8d3",
   "metadata": {},
   "outputs": [],
   "source": [
    "import tensorflow\n",
    "import numpy as np\n",
    "\n"
   ]
  },
  {
   "cell_type": "markdown",
   "id": "3236f682-ce3d-4ba0-9228-e1c194fdab44",
   "metadata": {},
   "source": [
    "# Steps\n",
    "    * Get dataset of small set, and cpu from cudi nvida\n",
    "    * Proprocess data and resize\n",
    "    * make nueral network\n",
    "    * using YOLO method openCV object detection \n",
    "    * make first draft of model"
   ]
  },
  {
   "cell_type": "code",
   "execution_count": null,
   "id": "60ccc6be-7e2c-4986-a745-ec81107dca43",
   "metadata": {},
   "outputs": [],
   "source": []
  }
 ],
 "metadata": {
  "kernelspec": {
   "display_name": "Python 3 (ipykernel)",
   "language": "python",
   "name": "python3"
  },
  "language_info": {
   "codemirror_mode": {
    "name": "ipython",
    "version": 3
   },
   "file_extension": ".py",
   "mimetype": "text/x-python",
   "name": "python",
   "nbconvert_exporter": "python",
   "pygments_lexer": "ipython3",
   "version": "3.12.4"
  }
 },
 "nbformat": 4,
 "nbformat_minor": 5
}
