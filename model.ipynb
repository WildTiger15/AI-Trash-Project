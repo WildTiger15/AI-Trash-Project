{
 "cells": [
  {
   "cell_type": "markdown",
   "id": "90c5f07a-1c30-4586-bb8f-f70b87adc12c",
   "metadata": {},
   "source": [
    "# Import Statements\n"
   ]
  },
  {
   "cell_type": "code",
   "execution_count": null,
   "id": "baadcca0-d4ae-4180-8db4-7b4735b0d8d3",
   "metadata": {},
   "outputs": [],
   "source": [
    "import tensorflow as tf\n",
    "from tensorflow.keras import datasets, layers, models\n",
    "from tensorflow.keras.preprocessing.image import ImageDataGenerator\n",
    "import matplotlib.pyplot as plt\n",
    "import numpy as np\n"
   ]
  },
  {
   "cell_type": "markdown",
   "id": "3236f682-ce3d-4ba0-9228-e1c194fdab44",
   "metadata": {},
   "source": [
    "# Steps\n",
    "    * Get dataset of small set, and cpu from cudi nvida\n",
    "    * Proprocess data and resize\n",
    "    * make nueral network\n",
    "    * using YOLO method openCV object detection \n",
    "    * make first draft of model"
   ]
  },
  {
   "cell_type": "markdown",
   "id": "4ad52038-abda-4702-9318-a7103e4485ae",
   "metadata": {},
   "source": [
    "# Getting dataset\n",
    "    * Dataset is from https://www.kaggle.com/datasets/asdasdasasdas/garbage-classification\n",
    "    * 6 classes of material this for the first draft of a model\n",
    "    * make more comments"
   ]
  },
  {
   "cell_type": "code",
   "execution_count": null,
   "id": "d30a70b8-df04-4c05-977f-15f5cb3da187",
   "metadata": {},
   "outputs": [],
   "source": []
  }
 ],
 "metadata": {
  "kernelspec": {
   "display_name": "Python 3 (ipykernel)",
   "language": "python",
   "name": "python3"
  },
  "language_info": {
   "codemirror_mode": {
    "name": "ipython",
    "version": 3
   },
   "file_extension": ".py",
   "mimetype": "text/x-python",
   "name": "python",
   "nbconvert_exporter": "python",
   "pygments_lexer": "ipython3",
   "version": "3.12.4"
  }
 },
 "nbformat": 4,
 "nbformat_minor": 5
}
